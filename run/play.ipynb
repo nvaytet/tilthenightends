{
 "cells": [
  {
   "cell_type": "code",
   "execution_count": 1,
   "id": "8bbf1627-a541-4df4-8c80-a2423a6cd7b9",
   "metadata": {},
   "outputs": [],
   "source": [
    "from tilthenightends import play"
   ]
  },
  {
   "cell_type": "code",
   "execution_count": 2,
   "id": "45a48cea-88eb-4a2c-92ea-2025b8a59deb",
   "metadata": {},
   "outputs": [
    {
     "name": "stdout",
     "output_type": "stream",
     "text": [
      "/home/nvaytet/games/tilthenightends/source/run/tilthenightends/resources/bat.png\n",
      "ImageTexture(imageUri='../bat.png', offset=(0.0, 0.0), repeat=(1.0, 1.0))\n"
     ]
    },
    {
     "data": {
      "application/vnd.jupyter.widget-view+json": {
       "model_id": "f59bbe4140814e8cb09c1640394d7fc6",
       "version_major": 2,
       "version_minor": 0
      },
      "text/plain": [
       "VBox(children=(Renderer(camera=PerspectiveCamera(aspect=1.25, position=(0.0, 0.0, 100.0), projectionMatrix=(1.…"
      ]
     },
     "execution_count": 2,
     "metadata": {},
     "output_type": "execute_result"
    }
   ],
   "source": [
    "play()"
   ]
  },
  {
   "cell_type": "code",
   "execution_count": null,
   "id": "9b6fb3d9-0f0e-4cdc-9985-b7e62b06ec60",
   "metadata": {},
   "outputs": [],
   "source": []
  }
 ],
 "metadata": {
  "kernelspec": {
   "display_name": "Python 3 (ipykernel)",
   "language": "python",
   "name": "python3"
  },
  "language_info": {
   "codemirror_mode": {
    "name": "ipython",
    "version": 3
   },
   "file_extension": ".py",
   "mimetype": "text/x-python",
   "name": "python",
   "nbconvert_exporter": "python",
   "pygments_lexer": "ipython3",
   "version": "3.10.12"
  }
 },
 "nbformat": 4,
 "nbformat_minor": 5
}
