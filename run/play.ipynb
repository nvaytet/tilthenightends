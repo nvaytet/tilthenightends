{
 "cells": [
  {
   "cell_type": "code",
   "execution_count": 1,
   "id": "8bbf1627-a541-4df4-8c80-a2423a6cd7b9",
   "metadata": {},
   "outputs": [],
   "source": [
    "from tilthenightends import play"
   ]
  },
  {
   "cell_type": "code",
   "execution_count": 2,
   "id": "45a48cea-88eb-4a2c-92ea-2025b8a59deb",
   "metadata": {},
   "outputs": [
    {
     "data": {
      "application/vnd.jupyter.widget-view+json": {
       "model_id": "3192f917865b4db5a8a6574b42887b0d",
       "version_major": 2,
       "version_minor": 0
      },
      "text/plain": [
       "VBox(children=(Renderer(camera=PerspectiveCamera(aspect=1.25, far=10000.0, near=0.001, position=(0.0, 0.0, 100…"
      ]
     },
     "execution_count": 2,
     "metadata": {},
     "output_type": "execute_result"
    }
   ],
   "source": [
    "play()"
   ]
  },
  {
   "cell_type": "code",
   "execution_count": null,
   "id": "418379db-6025-4a1d-a15f-f9eee40a6d85",
   "metadata": {},
   "outputs": [],
   "source": []
  }
 ],
 "metadata": {
  "kernelspec": {
   "display_name": "Python 3 (ipykernel)",
   "language": "python",
   "name": "python3"
  },
  "language_info": {
   "codemirror_mode": {
    "name": "ipython",
    "version": 3
   },
   "file_extension": ".py",
   "mimetype": "text/x-python",
   "name": "python",
   "nbconvert_exporter": "python",
   "pygments_lexer": "ipython3",
   "version": "3.10.12"
  }
 },
 "nbformat": 4,
 "nbformat_minor": 5
}
