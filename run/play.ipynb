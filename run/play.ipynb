{
 "cells": [
  {
   "cell_type": "code",
   "execution_count": null,
   "id": "8bbf1627-a541-4df4-8c80-a2423a6cd7b9",
   "metadata": {},
   "outputs": [],
   "source": [
    "from tilthenightends import play"
   ]
  },
  {
   "cell_type": "code",
   "execution_count": null,
   "id": "45a48cea-88eb-4a2c-92ea-2025b8a59deb",
   "metadata": {},
   "outputs": [],
   "source": [
    "play()"
   ]
  },
  {
   "cell_type": "code",
   "execution_count": null,
   "id": "9b6fb3d9-0f0e-4cdc-9985-b7e62b06ec60",
   "metadata": {},
   "outputs": [],
   "source": []
  }
 ],
 "metadata": {
  "kernelspec": {
   "display_name": "Python 3 (ipykernel)",
   "language": "python",
   "name": "python3"
  },
  "language_info": {
   "codemirror_mode": {
    "name": "ipython",
    "version": 3
   },
   "file_extension": ".py",
   "mimetype": "text/x-python",
   "name": "python",
   "nbconvert_exporter": "python",
   "pygments_lexer": "ipython3",
   "version": "3.10.12"
  }
 },
 "nbformat": 4,
 "nbformat_minor": 5
}
